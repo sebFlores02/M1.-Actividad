{
 "cells": [
  {
   "cell_type": "code",
   "execution_count": 81,
   "metadata": {},
   "outputs": [],
   "source": [
    "# Importamos las clases que se requieren para manejar los agentes (Agent) y su entorno (Model).\n",
    "# Cada modelo puede contener múltiples agentes.\n",
    "from mesa import Agent, Model \n",
    "\n",
    "from mesa.space import MultiGrid\n",
    "\n",
    "# Con ''RandomActivation'', hacemos que todos los agentes se activen ''al mismo tiempo''.\n",
    "from mesa.time import RandomActivation\n",
    "\n",
    "# Haremos uso de ''DataCollector'' para obtener información de cada paso de la simulación.\n",
    "from mesa.datacollection import DataCollector\n",
    "\n",
    "# Importamos los siguientes paquetes para el mejor manejo de valores numéricos.\n",
    "import numpy as np\n",
    "import pandas as pd\n",
    "\n",
    "# matplotlib lo usaremos crear una animación de cada uno de los pasos del modelo.\n",
    "%matplotlib inline\n",
    "import matplotlib\n",
    "import matplotlib.pyplot as plt\n",
    "import matplotlib.animation as animation\n",
    "plt.rcParams[\"animation.html\"] = \"jshtml\"\n",
    "matplotlib.rcParams['animation.embed_limit'] = 2**128"
   ]
  },
  {
   "cell_type": "code",
   "execution_count": 82,
   "metadata": {},
   "outputs": [],
   "source": [
    "class RobotAgent(Agent):\n",
    "    def __init__(self, unique_id, model):\n",
    "        super().__init__(unique_id, model)\n",
    "\n",
    "    def step(self):\n",
    "        x, y = self.pos\n",
    "        if self.model.dirty_cells[x][y]:  \n",
    "            self.model.dirty_cells[x][y] = False \n",
    "        else:\n",
    "            neighbors = self.model.grid.get_neighborhood(self.pos, moore=True, include_center=False)\n",
    "            if neighbors:  \n",
    "                next_move = self.random.choice(neighbors)\n",
    "                if self.model.grid.is_cell_empty(next_move):\n",
    "                    self.model.grid.move_agent(self, next_move)"
   ]
  },
  {
   "cell_type": "code",
   "execution_count": 83,
   "metadata": {},
   "outputs": [],
   "source": [
    "def get_grid(model):\n",
    "    return model.dirty_cells"
   ]
  },
  {
   "cell_type": "code",
   "execution_count": 84,
   "metadata": {},
   "outputs": [],
   "source": [
    "class RoomModel(Model):\n",
    "    def __init__(self, width, height, num_agents, dirty_cells_percentage):\n",
    "        self.grid = MultiGrid(width, height, torus=False)\n",
    "        self.schedule = RandomActivation(self)\n",
    "        self.datacollector = DataCollector(model_reporters={\"Grid\": get_grid})\n",
    "\n",
    "        total_cells = width * height\n",
    "        num_dirty_cells = int(total_cells * dirty_cells_percentage)\n",
    "        dirty_indices = np.random.choice(range(total_cells), num_dirty_cells, replace=False)\n",
    "        self.dirty_cells = np.zeros((width, height), dtype=bool)\n",
    "        for index in dirty_indices:\n",
    "            x, y = divmod(index, height)\n",
    "            self.dirty_cells[x, y] = True\n",
    "\n",
    "        for i in range(num_agents):\n",
    "            agent = RobotAgent(i, self)\n",
    "            self.grid.place_agent(agent, (1, 1))\n",
    "            self.schedule.add(agent)\n",
    "    \n",
    "    def step(self):\n",
    "        self.datacollector.collect(self)\n",
    "        self.schedule.step()"
   ]
  },
  {
   "cell_type": "code",
   "execution_count": 85,
   "metadata": {},
   "outputs": [],
   "source": [
    "WIDTH = 100\n",
    "HEIGHT = 100\n",
    "NUM_AGENTS = 2\n",
    "DIRTY_CELLS = .90\n",
    "\n",
    "MAX_STEPS = 100\n",
    "\n",
    "model = RoomModel(WIDTH, HEIGHT, NUM_AGENTS, DIRTY_CELLS)\n",
    "for i in range(MAX_STEPS):\n",
    "    model.step()\n",
    "    "
   ]
  },
  {
   "cell_type": "code",
   "execution_count": 86,
   "metadata": {},
   "outputs": [],
   "source": [
    "all_grid = model.datacollector.get_model_vars_dataframe()"
   ]
  },
  {
   "cell_type": "code",
   "execution_count": 87,
   "metadata": {},
   "outputs": [
    {
     "name": "stderr",
     "output_type": "stream",
     "text": [
      "/var/folders/f0/_1kmynrd62zdz552kgfzq_9w0000gn/T/ipykernel_1428/1805408665.py:4: FutureWarning: Series.__getitem__ treating keys as positions is deprecated. In a future version, integer keys will always be treated as labels (consistent with DataFrame behavior). To access a value by position, use `ser.iloc[pos]`\n",
      "  patch = plt.imshow(all_grid.iloc[0][0], cmap=plt.cm.binary)\n"
     ]
    },
    {
     "data": {
      "image/png": "[encoded data removed]",
      "text/plain": [
       "<Figure size 700x700 with 1 Axes>"
      ]
     },
     "metadata": {},
     "output_type": "display_data"
    }
   ],
   "source": [
    "fig, axs = plt.subplots(figsize=(7,7))\n",
    "axs.set_xticks([])\n",
    "axs.set_yticks([])\n",
    "patch = plt.imshow(all_grid.iloc[0][0], cmap=plt.cm.binary)"
   ]
  }
 ],
 "metadata": {
  "kernelspec": {
   "display_name": "Python 3",
   "language": "python",
   "name": "python3"
  },
  "language_info": {
   "codemirror_mode": {
    "name": "ipython",
    "version": 3
   },
   "file_extension": ".py",
   "mimetype": "text/x-python",
   "name": "python",
   "nbconvert_exporter": "python",
   "pygments_lexer": "ipython3",
   "version": "3.11.6"
  },
  "orig_nbformat": 4,
  "vscode": {
   "interpreter": {
    "hash": "b0fa6594d8f4cbf19f97940f81e996739fb7646882a419484c72d19e05852a7e"
   }
  }
 },
 "nbformat": 4,
 "nbformat_minor": 2
}
